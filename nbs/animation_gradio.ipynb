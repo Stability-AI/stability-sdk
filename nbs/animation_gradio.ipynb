{
  "cells": [
    {
      "attachments": {},
      "cell_type": "markdown",
      "metadata": {
        "id": "tPZFjbUDTwYE"
      },
      "source": [
        "# Stable Animation notebook"
      ]
    },
    {
      "cell_type": "code",
      "execution_count": null,
      "metadata": {
        "cellView": "form",
        "colab": {
          "base_uri": "https://localhost:8080/"
        },
        "id": "LUMF8i8BTwYH",
        "outputId": "f61c635e-bc57-48ab-cc3d-5166286b158f"
      },
      "outputs": [],
      "source": [
        "#@title Mount Google Drive\n",
        "import os\n",
        "try:\n",
        "    from google.colab import drive\n",
        "    drive.mount('/content/gdrive')\n",
        "    outputs_path = \"/content/gdrive/MyDrive/AI/StableAnimation\"\n",
        "    os.makedirs(outputs_path, exist_ok=True)\n",
        "except:\n",
        "    outputs_path = \".\"\n",
        "print(f\"Animations will be saved to {outputs_path}\")"
      ]
    },
    {
      "cell_type": "code",
      "execution_count": null,
      "metadata": {
        "cellView": "form",
        "id": "tgZBrk8DTwYI"
      },
      "outputs": [],
      "source": [
        "#@title Install Animation SDK and connect to the Stability API\n",
        "%pip install stability-sdk[anim_ui]\n",
        "\n",
        "from stability_sdk.api import Context\n",
        "from stability_sdk.animation_ui import create_ui\n",
        "\n",
        "# Enter your API key from dreamstudio.ai\n",
        "STABILITY_HOST = \"grpc.stability.ai:443\" #@param {type:\"string\"}\n",
        "STABILITY_KEY = \"\" #@param {type:\"string\"}\n",
        "\n",
        "# Connect to Stability API\n",
        "api_context = Context(STABILITY_HOST, STABILITY_KEY)"
      ]
    },
    {
      "cell_type": "code",
      "execution_count": 3,
      "metadata": {
        "cellView": "form",
        "id": "QVCAr8xcTwYI"
      },
      "outputs": [],
      "source": [
        "#@title Animation UI\n",
        "show_ui_in_notebook = True #@param {type:\"boolean\"}\n",
        "\n",
        "ui = create_ui(api_context, outputs_path)\n",
        "\n",
        "ui.queue(concurrency_count=2, max_size=2)\n",
        "ui.launch(show_api=False, debug=True, inline=show_ui_in_notebook, height=768, share=True, show_error=True)"
      ]
    }
  ],
  "metadata": {
    "colab": {
      "provenance": []
    },
    "kernelspec": {
      "display_name": "venv",
      "language": "python",
      "name": "python3"
    },
    "language_info": {
      "codemirror_mode": {
        "name": "ipython",
        "version": 3
      },
      "file_extension": ".py",
      "mimetype": "text/x-python",
      "name": "python",
      "nbconvert_exporter": "python",
      "pygments_lexer": "ipython3",
      "version": "3.9.5"
    },
    "orig_nbformat": 4,
    "vscode": {
      "interpreter": {
        "hash": "fb02550c4ef2b9a37ba5f7f381e893a74079cea154f791601856f87ae67cf67c"
      }
    }
  },
  "nbformat": 4,
  "nbformat_minor": 4
}
