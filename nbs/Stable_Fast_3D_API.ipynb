{
  "cells": [
    {
      "cell_type": "markdown",
      "metadata": {},
      "source": [
        "Stable Fast 3D demo can be accessed through the following links:\n",
        "\n",
        "[All 3D APIs (latest release)](https://colab.research.google.com/github/Stability-AI/stability-sdk/blob/main/nbs/Stable_3D_API.ipynb)\n",
        "\n",
        "[Stable Fast 3D (Jan 7, 2024)](https://colab.research.google.com/github/stability-ai/stability-sdk/blob/0777f9dbce72b91c5900951e4914b6ec43d807d1/nbs/Stable_Fast_3D_API.ipynb)"
      ]
    }
  ],
  "metadata": {
    "colab": {
      "provenance": []
    },
    "kernelspec": {
      "display_name": "venv",
      "language": "python",
      "name": "python3"
    },
    "language_info": {
      "codemirror_mode": {
        "name": "ipython",
        "version": 3
      },
      "file_extension": ".py",
      "mimetype": "text/x-python",
      "name": "python",
      "nbconvert_exporter": "python",
      "pygments_lexer": "ipython3",
      "version": "3.10.14"
    }
  },
  "nbformat": 4,
  "nbformat_minor": 0
}
