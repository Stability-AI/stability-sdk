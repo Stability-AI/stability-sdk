{
 "cells": [
  {
   "cell_type": "code",
   "execution_count": 1,
   "metadata": {},
   "outputs": [
    {
     "name": "stdout",
     "output_type": "stream",
     "text": [
      "/home/dmarx/proj/stability-sdk\n"
     ]
    }
   ],
   "source": [
    "%cd .."
   ]
  },
  {
   "cell_type": "code",
   "execution_count": 8,
   "metadata": {},
   "outputs": [],
   "source": [
    "%%capture\n",
    "!pip install -e ."
   ]
  },
  {
   "cell_type": "code",
   "execution_count": 4,
   "metadata": {},
   "outputs": [],
   "source": [
    "import getpass\n",
    "import os\n",
    "\n",
    "# To get your API key, visit https://beta.dreamstudio.ai/membership\n",
    "os.environ['API_KEY'] = getpass.getpass('Enter your API Key')"
   ]
  },
  {
   "cell_type": "code",
   "execution_count": 5,
   "metadata": {},
   "outputs": [],
   "source": [
    "from stability_sdk import client\n"
   ]
  },
  {
   "cell_type": "code",
   "execution_count": 6,
   "metadata": {},
   "outputs": [
    {
     "name": "stdout",
     "output_type": "stream",
     "text": [
      "usage: client.py [-h] [--height HEIGHT] [--width WIDTH]\n",
      "                 [--cfg_scale CFG_SCALE] [--sampler SAMPLER] [--steps STEPS]\n",
      "                 [--seed SEED] [--prefix PREFIX] [--no-store]\n",
      "                 [--num_samples NUM_SAMPLES] [--show] [--engine ENGINE]\n",
      "                 prompt [prompt ...]\n",
      "\n",
      "positional arguments:\n",
      "  prompt\n",
      "\n",
      "optional arguments:\n",
      "  -h, --help            show this help message and exit\n",
      "  --height HEIGHT, -H HEIGHT\n",
      "                        [512] height of image\n",
      "  --width WIDTH, -W WIDTH\n",
      "                        [512] width of image\n",
      "  --cfg_scale CFG_SCALE, -C CFG_SCALE\n",
      "                        [7.0] CFG scale factor\n",
      "  --sampler SAMPLER, -A SAMPLER\n",
      "                        [k_lms] (ddim, plms, k_euler, k_euler_ancestral,\n",
      "                        k_heun, k_dpm_2, k_dpm_2_ancestral, k_lms)\n",
      "  --steps STEPS, -s STEPS\n",
      "                        [50] number of steps\n",
      "  --seed SEED, -S SEED  random seed to use\n",
      "  --prefix PREFIX, -p PREFIX\n",
      "                        output prefixes for artifacts\n",
      "  --no-store            do not write out artifacts\n",
      "  --num_samples NUM_SAMPLES, -n NUM_SAMPLES\n",
      "                        number of samples to generate\n",
      "  --show                open artifacts using PIL\n",
      "  --engine ENGINE, -e ENGINE\n",
      "                        engine to use for inference\n"
     ]
    }
   ],
   "source": [
    "!python -m stability_sdk.client --help"
   ]
  },
  {
   "cell_type": "code",
   "execution_count": 8,
   "metadata": {},
   "outputs": [
    {
     "name": "stdout",
     "output_type": "stream",
     "text": [
      "2022-08-21 20:06:36,734 INFO client.py(364471) - Opening channel to grpc.stability.ai:443\n",
      "2022-08-21 20:06:36,735 INFO client.py(364471) - Channel opened to grpc.stability.ai:443\n"
     ]
    }
   ],
   "source": [
    "!python -m stability_sdk.client --show 'foo bar baz'"
   ]
  },
  {
   "cell_type": "code",
   "execution_count": 10,
   "metadata": {},
   "outputs": [],
   "source": [
    "stability_api = client.StabilityInference(\n",
    "        key=os.environ['API_KEY'], \n",
    "        verbose=True\n",
    "    )\n",
    "\n",
    "answers = stability_api.generate(\n",
    "    prompt=\"foo bar baz\"\n",
    ")"
   ]
  },
  {
   "cell_type": "code",
   "execution_count": 14,
   "metadata": {},
   "outputs": [],
   "source": [
    "for img_p, artifact in client.process_artifacts_from_answers(\n",
    "    prefix = \"my_image_\",\n",
    "    answers=answers,\n",
    "    write=True,\n",
    "):\n",
    "    print(img_p) # output filename\n",
    "    #print(artifact) type, mime, binary, seed\n"
   ]
  },
  {
   "cell_type": "code",
   "execution_count": null,
   "metadata": {},
   "outputs": [],
   "source": [
    "\n",
    "\n",
    "\n",
    "\n",
    "artifacts = process_artifacts_from_answers(\n",
    "    args.prefix, answers, write=not args.no_store, verbose=True\n",
    ")\n",
    "if args.show:\n",
    "    open_images(artifacts)\n",
    "else:\n",
    "    for image in artifacts:\n",
    "        pass"
   ]
  }
 ],
 "metadata": {
  "kernelspec": {
   "display_name": "Python 3.9.7 ('dmarx-je5LfYh2')",
   "language": "python",
   "name": "python3"
  },
  "language_info": {
   "codemirror_mode": {
    "name": "ipython",
    "version": 3
   },
   "file_extension": ".py",
   "mimetype": "text/x-python",
   "name": "python",
   "nbconvert_exporter": "python",
   "pygments_lexer": "ipython3",
   "version": "3.9.7"
  },
  "orig_nbformat": 4,
  "vscode": {
   "interpreter": {
    "hash": "57881a85d677a34ea29564e0084ef84f4058c4e30a2bb466eb0e0b908d0628df"
   }
  }
 },
 "nbformat": 4,
 "nbformat_minor": 2
}
