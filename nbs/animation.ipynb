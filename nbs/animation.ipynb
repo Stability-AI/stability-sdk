{
  "cells": [
    {
      "cell_type": "markdown",
      "metadata": {
        "id": "rWXrHouW3pq_"
      },
      "source": [
        "# Animation example"
      ]
    },
    {
      "cell_type": "code",
      "execution_count": 1,
      "metadata": {
        "cellView": "form",
        "id": "jCZ-IphH3prD"
      },
      "outputs": [],
      "source": [
        "#@title Mount Google Drive\n",
        "try:\n",
        "    from google.colab import drive\n",
        "    drive.mount('/content/gdrive')\n",
        "    outputs_path = \"/content/gdrive/MyDrive/AI/StabilityAnimations\"\n",
        "    !mkdir -p $outputs_path\n",
        "except:\n",
        "    outputs_path = \".\"\n",
        "print(f\"Animations will be saved to {outputs_path}\")"
      ]
    },
    {
      "cell_type": "code",
      "execution_count": 2,
      "metadata": {
        "cellView": "form",
        "id": "zj56t6tc3prF"
      },
      "outputs": [],
      "source": [
        "#@title Connect to the Stability API\n",
        "import grpc\n",
        "import os\n",
        "from pathlib import Path\n",
        "import shutil\n",
        "import sys\n",
        "\n",
        "\n",
        "path = Path('stability-sdk')\n",
        "if path.exists():\n",
        "    shutil.rmtree(path)\n",
        "    !pip uninstall -y stability-sdk\n",
        "\n",
        "\n",
        "!git clone -b dmarx.anima.dev --recurse-submodules https://github.com/Stability-AI/stability-sdk\n",
        "!touch ./stability-sdk/src/stability_sdk/interfaces/__init__.py\n",
        "!pip install ./stability-sdk\n",
        "\n",
        "\n",
        "from stability_sdk import client\n",
        "from stability_sdk.utils import (\n",
        "    color_match_from_string,\n",
        "    sampler_from_string,\n",
        "    key_frame_inbetweens,\n",
        "    key_frame_parse,\n",
        "    guidance_from_string,\n",
        "    #curve_to_series,\n",
        "    image_mix,\n",
        "    image_to_jpg_bytes,\n",
        "    image_to_png_bytes,\n",
        "    image_to_prompt,\n",
        "    image_xform,\n",
        "    warp2d_op,\n",
        "    warp3d_op,\n",
        "    border_mode_from_str_2d,\n",
        "    border_mode_from_str_3d,\n",
        "\n",
        ")\n",
        "\n",
        "\n",
        "from stability_sdk.client import generation, generation_grpc # not a huge fan of this but at least it works\n",
        "\n",
        "\n",
        "# GRPC endpoint and engines\n",
        "GRPC_HOST = \"\" #@param {type:\"string\"}\n",
        "API_KEY = \"\" #@param {type:\"string\"}\n",
        "GENERATE_ENGINE_ID = 'stable-diffusion-v1-5'\n",
        "INPAINT_ENGINE_ID = 'stable-diffusion-v1-5'\n",
        "TRANSFORM_ENGINE_ID = 'transform-server-v1'\n",
        "\n",
        "\n",
        "# Connect to Stability API\n",
        "stub = client.open_channel(GRPC_HOST, api_key=API_KEY)\n"
      ]
    },
    {
      "cell_type": "code",
      "execution_count": 3,
      "metadata": {
        "cellView": "form",
        "id": "3Rf9Fcqi3prF"
      },
      "outputs": [],
      "source": [
        "#@title Code definitions\n",
        "\n",
        "import bisect\n",
        "import cv2\n",
        "import datetime\n",
        "import json\n",
        "import logging\n",
        "import numpy as np\n",
        "import os\n",
        "import pandas as pd\n",
        "import pathlib\n",
        "import random\n",
        "import re\n",
        "import subprocess\n",
        "import sys\n",
        "\n",
        "from base64 import b64encode\n",
        "from collections import OrderedDict\n",
        "from IPython import display\n",
        "from PIL import Image\n",
        "from tqdm import tqdm\n",
        "from types import SimpleNamespace\n",
        "from typing import List, Tuple\n",
        "\n",
        "\n"
      ]
    },
    {
      "cell_type": "code",
      "execution_count": 4,
      "metadata": {
        "cellView": "form",
        "id": "ldUAFmur3prH"
      },
      "outputs": [],
      "source": [
        "#@title Settings\n",
        "\n",
        "def Args():\n",
        "\n",
        "    #@markdown ####**Settings:**\n",
        "    W = 512 #@param\n",
        "    H = 512 #@param\n",
        "    W, H = map(lambda x: x - x % 64, (W, H))  # resize to integer multiple of 64\n",
        "    sampler = 'K_euler_ancestral' #@param [\"DDIM\", \"PLMS\", \"K_euler\", \"K_euler_ancestral\", \"K_heun\", \"K_dpm_2\", \"K_dpm_2_ancestral\", \"K_lms\"]\n",
        "    seed = -1 #@param\n",
        "    cfg_scale = 7 #@param {type:\"number\"}\n",
        "    clip_guidance = 'FastBlue' #@param [\"None\", \"Simple\", \"FastBlue\", \"FastGreen\"]\n",
        "\n",
        "    #@markdown ####**Animation Settings:**\n",
        "    animation_mode = '3D' #@param ['2D', '3D', 'Video Input'] {type:'string'}\n",
        "    max_frames = 60 #@param {type:\"number\"}\n",
        "    border = 'replicate' #@param ['reflect', 'replicate', 'wrap', 'zero'] {type:'string'}\n",
        "    inpaint_border = False #@param {type:\"boolean\"}\n",
        "    interpolate_prompts = False #@param {type:\"boolean\"}\n",
        "    locked_seed = False #@param {type:\"boolean\"}\n",
        "\n",
        "    #@markdown ####**Key framed value curves:**\n",
        "    angle = \"0:(1)\" #@param {type:\"string\"}\n",
        "    zoom = \"0:(1.05)\" #@param {type:\"string\"}\n",
        "    translation_x = \"0:(0)\" #@param {type:\"string\"}\n",
        "    translation_y = \"0:(0)\" #@param {type:\"string\"}\n",
        "    translation_z = \"0:(5)\" #@param {type:\"string\"}\n",
        "    rotation_x = \"0:(0)\" #@param {type:\"string\"}\n",
        "    rotation_y = \"0:(0)\" #@param {type:\"string\"}\n",
        "    rotation_z = \"0:(1)\" #@param {type:\"string\"}\n",
        "    brightness_curve = \"0: (1.0)\" #@param {type:\"string\"}\n",
        "    contrast_curve = \"0: (1.0)\" #@param {type:\"string\"}\n",
        "    noise_curve = \"0:(0.0)\" # likely to be removed, still hidden here for potential experiments\n",
        "    noise_scale_curve = \"0:(1.02)\" #@param {type:\"string\"}\n",
        "    steps_curve = \"0:(50)\" #@param {type:\"string\"}\n",
        "    strength_curve = \"0:(0.65)\" #@param {type:\"string\"}\n",
        "\n",
        "    #@markdown ####**Coherence:**\n",
        "    color_coherence = 'LAB' #@param ['None', 'HSV', 'LAB', 'RGB'] {type:'string'}\n",
        "    diffusion_cadence_curve = \"0:(4)\" #@param {type:\"string\"}\n",
        "\n",
        "    #@markdown ####**3D Depth Warping:**\n",
        "    #use_depth_warping = True #@param {type:\"boolean\"}\n",
        "    midas_weight = 0.3 #@param {type:\"number\"}\n",
        "    near_plane = 200\n",
        "    far_plane = 10000\n",
        "    fov_curve = \"0:(25)\" #@param {type:\"string\"}\n",
        "    save_depth_maps = False #@param {type:\"boolean\"}\n",
        "\n",
        "    #@markdown ####**Video Input:**\n",
        "    video_init_path = '/content/video_in.mp4' #@param {type:\"string\"}\n",
        "    extract_nth_frame = 4 #@param {type:\"number\"}\n",
        "    video_mix_in_curve = \"0:(0.02)\" #@param {type:\"string\"}\n",
        "    video_flow_warp = True #@param {type:\"boolean\"}\n",
        "\n",
        "    return locals()\n"
      ]
    },
    {
      "cell_type": "markdown",
      "metadata": {
        "id": "_SudvbZG3prI"
      },
      "source": [
        "### Prompts"
      ]
    },
    {
      "cell_type": "code",
      "execution_count": 5,
      "metadata": {
        "id": "FT9slDSw3prJ"
      },
      "outputs": [],
      "source": [
        "animation_prompts = {\n",
        "    0: \"a painting of a delicious cheeseburger by Tyler Edlin\",\n",
        "    24: \"a painting of the the answer to life the universe and everything by Tyler Edlin\",\n",
        "}\n",
        "\n",
        "negative_prompt = \"\"\n",
        "negative_prompt_weight = -1.0\n"
      ]
    },
    {
      "cell_type": "code",
      "execution_count": 6,
      "metadata": {
        "cellView": "form",
        "id": "Rpqv6t303prJ"
      },
      "outputs": [],
      "source": [
        "#@title Render the animation\n",
        "\n",
        "from stability_sdk.animation import Animator\n",
        "\n",
        "\n",
        "# create folder for frames output\n",
        "timestring = datetime.datetime.now().strftime('%Y%m%d%H%M%S')\n",
        "out_dir = os.path.join(outputs_path, timestring)\n",
        "os.makedirs(out_dir, exist_ok=True)\n",
        "print(f\"Saving animation frames to {out_dir}...\")\n",
        "\n",
        "args = SimpleNamespace(**Args())\n",
        "artist = Animator(\n",
        "    animation_prompts=animation_prompts,\n",
        "    args=args,\n",
        "    out_dir=out_dir,\n",
        "    negative_prompt=negative_prompt,\n",
        "    negative_prompt_weight=negative_prompt_weight,\n",
        "    transform_engine_id=TRANSFORM_ENGINE_ID,\n",
        "    inpaint_engine_id=INPAINT_ENGINE_ID,\n",
        "    generate_engine_id=GENERATE_ENGINE_ID,\n",
        "    )\n",
        "artist.save_settings()\n",
        "artist.setup_animation()\n",
        "artist.render_animation(stub=stub)"
      ]
    },
    {
      "cell_type": "code",
      "execution_count": 57,
      "metadata": {
        "cellView": "form",
        "id": "aWhJnLNX3prL"
      },
      "outputs": [],
      "source": [
        "#@title Create video from frames\n",
        "skip_video_for_run_all = False #@param {type: 'boolean'}\n",
        "fps = 12 #@param {type:\"number\"}\n",
        "\n",
        "if skip_video_for_run_all == True:\n",
        "    print('Skipping video creation, uncheck skip_video_for_run_all if you want to run it')\n",
        "else:\n",
        "    image_path = os.path.join(out_dir, \"frame_%05d.png\")\n",
        "    mp4_path = os.path.join(out_dir, f\"{timestring}.mp4\")\n",
        "\n",
        "    print(f\"Compiling animation frames to {mp4_path}...\")\n",
        "\n",
        "    cmd = [\n",
        "        'ffmpeg',\n",
        "        '-y',\n",
        "        '-vcodec', 'png',\n",
        "        '-r', str(fps),\n",
        "        '-start_number', str(0),\n",
        "        '-i', image_path,\n",
        "        '-c:v', 'libx264',\n",
        "        '-vf',\n",
        "        f'fps={fps}',\n",
        "        '-pix_fmt', 'yuv420p',\n",
        "        '-crf', '17',\n",
        "        '-preset', 'veryfast',\n",
        "        mp4_path\n",
        "    ]\n",
        "    process = subprocess.Popen(cmd, stdout=subprocess.PIPE, stderr=subprocess.PIPE)\n",
        "    stdout, stderr = process.communicate()\n",
        "    if process.returncode != 0:\n",
        "        print(stderr)\n",
        "        raise RuntimeError(stderr)\n",
        "\n",
        "    mp4 = open(mp4_path,'rb').read()\n",
        "    data_url = \"data:video/mp4;base64,\" + b64encode(mp4).decode()\n",
        "    display.display( display.HTML(f'<video controls loop><source src=\"{data_url}\" type=\"video/mp4\"></video>') )\n"
      ]
    }
  ],
  "metadata": {
    "colab": {
      "collapsed_sections": [],
      "provenance": []
    },
    "kernelspec": {
      "display_name": "Python 3.9.2 64-bit",
      "language": "python",
      "name": "python3"
    },
    "language_info": {
      "codemirror_mode": {
        "name": "ipython",
        "version": 3
      },
      "file_extension": ".py",
      "mimetype": "text/x-python",
      "name": "python",
      "nbconvert_exporter": "python",
      "pygments_lexer": "ipython3",
      "version": "3.9.2"
    },
    "orig_nbformat": 4,
    "vscode": {
      "interpreter": {
        "hash": "81794d4967e6c3204c66dcd87b604927b115b27c00565d3d43f05ba2f3a2cb0d"
      }
    }
  },
  "nbformat": 4,
  "nbformat_minor": 0
}
