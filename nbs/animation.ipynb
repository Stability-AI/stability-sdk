{
  "cells": [
    {
      "cell_type": "markdown",
      "metadata": {
        "id": "rWXrHouW3pq_"
      },
      "source": [
        "# Animation example"
      ]
    },
    {
      "cell_type": "code",
      "execution_count": 1,
      "metadata": {
        "cellView": "form",
        "id": "jCZ-IphH3prD"
      },
      "outputs": [],
      "source": [
        "#@title Mount Google Drive\n",
        "try:\n",
        "    from google.colab import drive\n",
        "    drive.mount('/content/gdrive')\n",
        "    outputs_path = \"/content/gdrive/MyDrive/AI/StabilityAnimations\"\n",
        "    !mkdir -p $outputs_path\n",
        "except:\n",
        "    outputs_path = \".\"\n",
        "print(f\"Animations will be saved to {outputs_path}\")"
      ]
    },
    {
      "cell_type": "code",
      "execution_count": 2,
      "metadata": {
        "cellView": "form",
        "id": "zj56t6tc3prF"
      },
      "outputs": [],
      "source": [
        "#@title Connect to the Stability API\n",
        "\n",
        "import datetime\n",
        "import os\n",
        "from pathlib import Path\n",
        "import shutil\n",
        "import subprocess\n",
        "import sys\n",
        "\n",
        "\n",
        "path = Path('stability-sdk')\n",
        "if path.exists():\n",
        "    shutil.rmtree(path)\n",
        "    !pip uninstall -y stability-sdk\n",
        "\n",
        "!git clone -b dmarx.anima.dev --recurse-submodules https://github.com/Stability-AI/stability-sdk\n",
        "!touch ./stability-sdk/src/stability_sdk/interfaces/__init__.py\n",
        "!pip install ./stability-sdk\n",
        "\n",
        "\n",
        "from stability_sdk.animation import AnimationArgs, Animator\n",
        "from stability_sdk.client import generation, generation_grpc # not a huge fan of this but at least it works\n",
        "from stability_sdk import client\n",
        "from stability_sdk.utils import (\n",
        "    color_match_from_string,\n",
        "    sampler_from_string,\n",
        "    key_frame_inbetweens,\n",
        "    key_frame_parse,\n",
        "    guidance_from_string,\n",
        "    #curve_to_series,\n",
        "    image_mix,\n",
        "    image_to_jpg_bytes,\n",
        "    image_to_png_bytes,\n",
        "    image_to_prompt,\n",
        "    image_xform,\n",
        "    warp2d_op,\n",
        "    warp3d_op,\n",
        "    border_mode_from_str_2d,\n",
        "    border_mode_from_str_3d,\n",
        ")\n",
        "\n",
        "from IPython import display\n",
        "import panel as pn\n",
        "\n",
        "pn.extension()\n",
        "\n",
        "\n",
        "# GRPC endpoint and engines\n",
        "GRPC_HOST = \"\" #@param {type:\"string\"}\n",
        "API_KEY = \"\" #@param {type:\"string\"}\n",
        "GENERATE_ENGINE_ID = 'stable-diffusion-v1-5'\n",
        "INPAINT_ENGINE_ID = 'stable-diffusion-v1-5'\n",
        "TRANSFORM_ENGINE_ID = 'transform-server-v1'\n",
        "\n",
        "\n",
        "# Connect to Stability API\n",
        "stub = client.open_channel(GRPC_HOST, api_key=API_KEY)"
      ]
    },
    {
      "cell_type": "code",
      "execution_count": 4,
      "metadata": {
        "cellView": "form",
        "id": "ldUAFmur3prH"
      },
      "outputs": [],
      "source": [
        "#@title Settings\n",
        "\n",
        "args = AnimationArgs()\n",
        "pn.Row(args.param)"
      ]
    },
    {
      "cell_type": "markdown",
      "metadata": {
        "id": "_SudvbZG3prI"
      },
      "source": [
        "### Prompts"
      ]
    },
    {
      "cell_type": "code",
      "execution_count": 5,
      "metadata": {
        "id": "FT9slDSw3prJ"
      },
      "outputs": [],
      "source": [
        "animation_prompts = {\n",
        "    0: \"a painting of a delicious cheeseburger by Tyler Edlin\",\n",
        "    24: \"a painting of the the answer to life the universe and everything by Tyler Edlin\",\n",
        "}\n",
        "\n",
        "negative_prompt = \"\"\n",
        "negative_prompt_weight = -1.0\n"
      ]
    },
    {
      "cell_type": "code",
      "execution_count": 6,
      "metadata": {
        "cellView": "form",
        "id": "Rpqv6t303prJ"
      },
      "outputs": [],
      "source": [
        "#@title Render the animation\n",
        "\n",
        "# create folder for frames output\n",
        "timestring = datetime.datetime.now().strftime('%Y%m%d%H%M%S')\n",
        "out_dir = os.path.join(outputs_path, timestring)\n",
        "os.makedirs(out_dir, exist_ok=True)\n",
        "print(f\"Saving animation frames to {out_dir}...\")\n",
        "\n",
        "#args = SimpleNamespace(**Args())\n",
        "artist = Animator(\n",
        "    animation_prompts=animation_prompts,\n",
        "    args=args,\n",
        "    out_dir=out_dir,\n",
        "    negative_prompt=negative_prompt,\n",
        "    negative_prompt_weight=negative_prompt_weight,\n",
        "    transform_engine_id=TRANSFORM_ENGINE_ID,\n",
        "    inpaint_engine_id=INPAINT_ENGINE_ID,\n",
        "    generate_engine_id=GENERATE_ENGINE_ID,\n",
        "    )\n",
        "artist.save_settings()\n",
        "artist.setup_animation()\n",
        "artist.render_animation(stub=stub)"
      ]
    },
    {
      "cell_type": "code",
      "execution_count": 57,
      "metadata": {
        "cellView": "form",
        "id": "aWhJnLNX3prL"
      },
      "outputs": [],
      "source": [
        "#@title Create video from frames\n",
        "skip_video_for_run_all = False #@param {type: 'boolean'}\n",
        "fps = 12 #@param {type:\"number\"}\n",
        "\n",
        "if skip_video_for_run_all == True:\n",
        "    print('Skipping video creation, uncheck skip_video_for_run_all if you want to run it')\n",
        "else:\n",
        "    image_path = os.path.join(out_dir, \"frame_%05d.png\")\n",
        "    mp4_path = os.path.join(out_dir, f\"{timestring}.mp4\")\n",
        "\n",
        "    print(f\"Compiling animation frames to {mp4_path}...\")\n",
        "\n",
        "    cmd = [\n",
        "        'ffmpeg',\n",
        "        '-y',\n",
        "        '-vcodec', 'png',\n",
        "        '-r', str(fps),\n",
        "        '-start_number', str(0),\n",
        "        '-i', image_path,\n",
        "        '-c:v', 'libx264',\n",
        "        '-vf',\n",
        "        f'fps={fps}',\n",
        "        '-pix_fmt', 'yuv420p',\n",
        "        '-crf', '17',\n",
        "        '-preset', 'veryfast',\n",
        "        mp4_path\n",
        "    ]\n",
        "    process = subprocess.Popen(cmd, stdout=subprocess.PIPE, stderr=subprocess.PIPE)\n",
        "    stdout, stderr = process.communicate()\n",
        "    if process.returncode != 0:\n",
        "        print(stderr)\n",
        "        raise RuntimeError(stderr)\n",
        "\n",
        "    mp4 = open(mp4_path,'rb').read()\n",
        "    data_url = \"data:video/mp4;base64,\" + b64encode(mp4).decode()\n",
        "    display.display( display.HTML(f'<video controls loop><source src=\"{data_url}\" type=\"video/mp4\"></video>') )\n"
      ]
    }
  ],
  "metadata": {
    "colab": {
      "collapsed_sections": [],
      "provenance": []
    },
    "kernelspec": {
      "display_name": "Python 3.9.2 64-bit",
      "language": "python",
      "name": "python3"
    },
    "language_info": {
      "codemirror_mode": {
        "name": "ipython",
        "version": 3
      },
      "file_extension": ".py",
      "mimetype": "text/x-python",
      "name": "python",
      "nbconvert_exporter": "python",
      "pygments_lexer": "ipython3",
      "version": "3.9.2"
    },
    "orig_nbformat": 4,
    "vscode": {
      "interpreter": {
        "hash": "81794d4967e6c3204c66dcd87b604927b115b27c00565d3d43f05ba2f3a2cb0d"
      }
    }
  },
  "nbformat": 4,
  "nbformat_minor": 0
}
