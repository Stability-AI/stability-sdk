{
  "cells": [
    {
      "cell_type": "code",
      "execution_count": 1,
      "metadata": {
        "colab": {
          "base_uri": "https://localhost:8080/"
        },
        "id": "T9ma2X7bhH8y",
        "outputId": "1dc7a78a-8067-4980-a743-280709c49ceb"
      },
      "outputs": [
        {
          "output_type": "stream",
          "name": "stdout",
          "text": [
            "Cloning into 'stability-sdk'...\n",
            "remote: Enumerating objects: 2857, done.\u001b[K\n",
            "remote: Counting objects: 100% (1471/1471), done.\u001b[K\n",
            "remote: Compressing objects: 100% (505/505), done.\u001b[K\n",
            "remote: Total 2857 (delta 897), reused 1335 (delta 800), pack-reused 1386\u001b[K\n",
            "Receiving objects: 100% (2857/2857), 47.80 MiB | 23.64 MiB/s, done.\n",
            "Resolving deltas: 100% (1672/1672), done.\n",
            "Submodule 'api-interfaces' (https://github.com/stability-ai/api-interfaces) registered for path 'src/stability_sdk/interfaces'\n",
            "Cloning into '/content/stability-sdk/src/stability_sdk/interfaces'...\n",
            "remote: Enumerating objects: 4455, done.        \n",
            "remote: Counting objects: 100% (1579/1579), done.        \n",
            "remote: Compressing objects: 100% (458/458), done.        \n",
            "remote: Total 4455 (delta 1141), reused 1368 (delta 994), pack-reused 2876        \n",
            "Receiving objects: 100% (4455/4455), 5.09 MiB | 8.96 MiB/s, done.\n",
            "Resolving deltas: 100% (3180/3180), done.\n",
            "Submodule path 'src/stability_sdk/interfaces': checked out 'a204ab7ffbb40e09a898107ef7c77b24379dfc3e'\n",
            "Submodule 'src/tensorizer' (https://github.com/coreweave/tensorizer.git) registered for path 'src/stability_sdk/interfaces/src/tensorizer'\n",
            "Cloning into '/content/stability-sdk/src/stability_sdk/interfaces/src/tensorizer'...\n",
            "remote: Enumerating objects: 1048, done.        \n",
            "remote: Counting objects: 100% (489/489), done.        \n",
            "remote: Compressing objects: 100% (222/222), done.        \n",
            "remote: Total 1048 (delta 301), reused 360 (delta 261), pack-reused 559        \n",
            "Receiving objects: 100% (1048/1048), 406.04 KiB | 2.19 MiB/s, done.\n",
            "Resolving deltas: 100% (617/617), done.\n",
            "Submodule path 'src/stability_sdk/interfaces/src/tensorizer': checked out '35381e3812ba342991d30b71ce257503622ae828'\n",
            "Looking in indexes: https://pypi.org/simple, https://us-python.pkg.dev/colab-wheels/public/simple/\n",
            "Processing ./stability-sdk\n",
            "  Installing build dependencies ... \u001b[?25l\u001b[?25hdone\n",
            "  Getting requirements to build wheel ... \u001b[?25l\u001b[?25hdone\n",
            "  Installing backend dependencies ... \u001b[?25l\u001b[?25hdone\n",
            "  Preparing metadata (pyproject.toml) ... \u001b[?25l\u001b[?25hdone\n",
            "Requirement already satisfied: Pillow in /usr/local/lib/python3.10/dist-packages (from stability-sdk==0.8.1) (8.4.0)\n",
            "Collecting grpcio==1.53.0 (from stability-sdk==0.8.1)\n",
            "  Downloading grpcio-1.53.0-cp310-cp310-manylinux_2_17_x86_64.manylinux2014_x86_64.whl (5.0 MB)\n",
            "\u001b[2K     \u001b[90m━━━━━━━━━━━━━━━━━━━━━━━━━━━━━━━━━━━━━━━━\u001b[0m \u001b[32m5.0/5.0 MB\u001b[0m \u001b[31m31.3 MB/s\u001b[0m eta \u001b[36m0:00:00\u001b[0m\n",
            "\u001b[?25hCollecting grpcio-tools==1.53.0 (from stability-sdk==0.8.1)\n",
            "  Downloading grpcio_tools-1.53.0-cp310-cp310-manylinux_2_17_x86_64.manylinux2014_x86_64.whl (2.4 MB)\n",
            "\u001b[2K     \u001b[90m━━━━━━━━━━━━━━━━━━━━━━━━━━━━━━━━━━━━━━━━\u001b[0m \u001b[32m2.4/2.4 MB\u001b[0m \u001b[31m96.3 MB/s\u001b[0m eta \u001b[36m0:00:00\u001b[0m\n",
            "\u001b[?25hCollecting python-dotenv (from stability-sdk==0.8.1)\n",
            "  Downloading python_dotenv-1.0.0-py3-none-any.whl (19 kB)\n",
            "Requirement already satisfied: param in /usr/local/lib/python3.10/dist-packages (from stability-sdk==0.8.1) (1.13.0)\n",
            "Collecting pydantic==1.10.9 (from stability-sdk==0.8.1)\n",
            "  Downloading pydantic-1.10.9-cp310-cp310-manylinux_2_17_x86_64.manylinux2014_x86_64.whl (3.1 MB)\n",
            "\u001b[2K     \u001b[90m━━━━━━━━━━━━━━━━━━━━━━━━━━━━━━━━━━━━━━━━\u001b[0m \u001b[32m3.1/3.1 MB\u001b[0m \u001b[31m104.4 MB/s\u001b[0m eta \u001b[36m0:00:00\u001b[0m\n",
            "\u001b[?25hCollecting protobuf==4.21.12 (from stability-sdk==0.8.1)\n",
            "  Downloading protobuf-4.21.12-cp37-abi3-manylinux2014_x86_64.whl (409 kB)\n",
            "\u001b[2K     \u001b[90m━━━━━━━━━━━━━━━━━━━━━━━━━━━━━━━━━━━━━━\u001b[0m \u001b[32m409.8/409.8 kB\u001b[0m \u001b[31m37.4 MB/s\u001b[0m eta \u001b[36m0:00:00\u001b[0m\n",
            "\u001b[?25hRequirement already satisfied: setuptools in /usr/local/lib/python3.10/dist-packages (from grpcio-tools==1.53.0->stability-sdk==0.8.1) (67.7.2)\n",
            "Requirement already satisfied: typing-extensions>=4.2.0 in /usr/local/lib/python3.10/dist-packages (from pydantic==1.10.9->stability-sdk==0.8.1) (4.5.0)\n",
            "Building wheels for collected packages: stability-sdk\n",
            "  Building wheel for stability-sdk (pyproject.toml) ... \u001b[?25l\u001b[?25hdone\n",
            "  Created wheel for stability-sdk: filename=stability_sdk-0.8.1-py3-none-any.whl size=90748 sha256=6c40a4be093a6c511f8a1dcef30db5efa633ea8cc48bd56ebd09069d54a28515\n",
            "  Stored in directory: /root/.cache/pip/wheels/59/09/ee/698f64c838445c16b36fff214d295c444d57ece799bba1d630\n",
            "Successfully built stability-sdk\n",
            "Installing collected packages: python-dotenv, pydantic, protobuf, grpcio, grpcio-tools, stability-sdk\n",
            "  Attempting uninstall: pydantic\n",
            "    Found existing installation: pydantic 1.10.7\n",
            "    Uninstalling pydantic-1.10.7:\n",
            "      Successfully uninstalled pydantic-1.10.7\n",
            "  Attempting uninstall: protobuf\n",
            "    Found existing installation: protobuf 3.20.3\n",
            "    Uninstalling protobuf-3.20.3:\n",
            "      Successfully uninstalled protobuf-3.20.3\n",
            "  Attempting uninstall: grpcio\n",
            "    Found existing installation: grpcio 1.54.0\n",
            "    Uninstalling grpcio-1.54.0:\n",
            "      Successfully uninstalled grpcio-1.54.0\n",
            "Successfully installed grpcio-1.53.0 grpcio-tools-1.53.0 protobuf-4.21.12 pydantic-1.10.9 python-dotenv-1.0.0 stability-sdk-0.8.1\n"
          ]
        }
      ],
      "source": [
        "#@title Install Stability SDK with fine-tuning support\n",
        "import os\n",
        "import shutil\n",
        "import sys\n",
        "from pathlib import Path\n",
        "\n",
        "if os.path.exists(\"../src/stability_sdk\"):\n",
        "    sys.path.append(\"../src\") # use local SDK src\n",
        "else:\n",
        "    path = Path('stability-sdk')\n",
        "    if path.exists():\n",
        "        shutil.rmtree(path)\n",
        "        !pip uninstall -y stability-sdk\n",
        "    !git clone -b \"PLATFORM-339\" --recurse-submodules https://github.com/Stability-AI/stability-sdk\n",
        "    !pip install ./stability-sdk"
      ]
    },
    {
      "cell_type": "code",
      "execution_count": 26,
      "metadata": {
        "colab": {
          "base_uri": "https://localhost:8080/"
        },
        "id": "5LM5SUUOhH8z",
        "outputId": "eb3e1db7-24d9-46a3-8076-4e909a71a5ce"
      },
      "outputs": [
        {
          "output_type": "stream",
          "name": "stdout",
          "text": [
            "Logged in org:org-xHb87qibUiWagf9ylicb7C12 with balance:999990.8309599999\n"
          ]
        }
      ],
      "source": [
        "#@title Connect to the Stability API\n",
        "import getpass\n",
        "from stability_sdk.api import Context as ApiContext\n",
        "from stability_sdk.finetune import *\n",
        "\n",
        "# @markdown To get your API key visit https://dreamstudio.ai/account\n",
        "STABILITY_HOST = \"grpc-brian.stability.ai:443\" #@param {type:\"string\"}\n",
        "STABILITY_KEY = \"sk-6or2rWAECxdobHfgz7n3WaqQbsw1W3VM29E3vkIQV1j4oz0t\" #@param {type:\"string\"}\n",
        "ft_engine_id = \"stable-diffusion-xl-beta-v2-2-2-ft\"\n",
        "\n",
        "api_context = ApiContext(STABILITY_HOST, STABILITY_KEY, generate_engine_id=ft_engine_id)\n",
        "(balance, pfp) = api_context.get_user_info()\n",
        "print(f\"Logged in org:{api_context._user_organization_id} with balance:{balance}\")\n",
        "\n",
        "# Create a fine-tuning context\n",
        "ft_context = Context(STABILITY_HOST, STABILITY_KEY)"
      ]
    },
    {
      "cell_type": "code",
      "execution_count": 27,
      "metadata": {
        "colab": {
          "base_uri": "https://localhost:8080/"
        },
        "id": "iQL5dFsfhH8z",
        "outputId": "0ea8964f-8898-4b2f-8535-69d7e8af0a45"
      },
      "outputs": [
        {
          "output_type": "stream",
          "name": "stdout",
          "text": [
            "Found 4 models\n",
            "  Model 31a3ea25-4e16-4e3d-96d5-06b01348c204 elliot-small completed\n",
            "  Model c8cef2ec-d62e-4948-8189-c77f248a517a elliot completed\n",
            "  Model 6408f646-6cc9-4911-b6c0-c9f30e7cab44 brian submitted\n",
            "  Model 0a9a56ba-7b71-4c06-8f28-13716d0a54b4 brian2 submitted\n"
          ]
        }
      ],
      "source": [
        "# List fine tuned models for this user / organization\n",
        "models = list_models(ft_context, org_id=api_context._user_organization_id)\n",
        "print(f\"Found {len(models)} models\")\n",
        "for model in models:\n",
        "    print(f\"  Model {model.id} {model.name} {model.status}\")"
      ]
    },
    {
      "cell_type": "code",
      "source": [
        "#@title Upload input folder\n",
        "from google.colab import files\n",
        "from zipfile import ZipFile\n",
        "import io\n",
        "from pathlib import Path\n",
        "\n",
        "upload_res = files.upload()\n",
        "training_dir = list(upload_res.keys())[0]\n",
        "\n",
        "print(training_dir)\n",
        "zf = ZipFile(io.BytesIO(upload_res[training_dir]), \"r\")\n",
        "zf.extractall()\n",
        "\n",
        "training_dir = Path(training_dir).stem\n"
      ],
      "metadata": {
        "colab": {
          "base_uri": "https://localhost:8080/",
          "height": 92
        },
        "id": "9C1YOFxIhTJp",
        "outputId": "7cf54e6b-5d2a-4fd0-a16d-4134627eaa4f"
      },
      "execution_count": 14,
      "outputs": [
        {
          "output_type": "display_data",
          "data": {
            "text/plain": [
              "<IPython.core.display.HTML object>"
            ],
            "text/html": [
              "\n",
              "     <input type=\"file\" id=\"files-031e097b-770f-4ddf-8710-1a84ffe8208c\" name=\"files[]\" multiple disabled\n",
              "        style=\"border:none\" />\n",
              "     <output id=\"result-031e097b-770f-4ddf-8710-1a84ffe8208c\">\n",
              "      Upload widget is only available when the cell has been executed in the\n",
              "      current browser session. Please rerun this cell to enable.\n",
              "      </output>\n",
              "      <script>// Copyright 2017 Google LLC\n",
              "//\n",
              "// Licensed under the Apache License, Version 2.0 (the \"License\");\n",
              "// you may not use this file except in compliance with the License.\n",
              "// You may obtain a copy of the License at\n",
              "//\n",
              "//      http://www.apache.org/licenses/LICENSE-2.0\n",
              "//\n",
              "// Unless required by applicable law or agreed to in writing, software\n",
              "// distributed under the License is distributed on an \"AS IS\" BASIS,\n",
              "// WITHOUT WARRANTIES OR CONDITIONS OF ANY KIND, either express or implied.\n",
              "// See the License for the specific language governing permissions and\n",
              "// limitations under the License.\n",
              "\n",
              "/**\n",
              " * @fileoverview Helpers for google.colab Python module.\n",
              " */\n",
              "(function(scope) {\n",
              "function span(text, styleAttributes = {}) {\n",
              "  const element = document.createElement('span');\n",
              "  element.textContent = text;\n",
              "  for (const key of Object.keys(styleAttributes)) {\n",
              "    element.style[key] = styleAttributes[key];\n",
              "  }\n",
              "  return element;\n",
              "}\n",
              "\n",
              "// Max number of bytes which will be uploaded at a time.\n",
              "const MAX_PAYLOAD_SIZE = 100 * 1024;\n",
              "\n",
              "function _uploadFiles(inputId, outputId) {\n",
              "  const steps = uploadFilesStep(inputId, outputId);\n",
              "  const outputElement = document.getElementById(outputId);\n",
              "  // Cache steps on the outputElement to make it available for the next call\n",
              "  // to uploadFilesContinue from Python.\n",
              "  outputElement.steps = steps;\n",
              "\n",
              "  return _uploadFilesContinue(outputId);\n",
              "}\n",
              "\n",
              "// This is roughly an async generator (not supported in the browser yet),\n",
              "// where there are multiple asynchronous steps and the Python side is going\n",
              "// to poll for completion of each step.\n",
              "// This uses a Promise to block the python side on completion of each step,\n",
              "// then passes the result of the previous step as the input to the next step.\n",
              "function _uploadFilesContinue(outputId) {\n",
              "  const outputElement = document.getElementById(outputId);\n",
              "  const steps = outputElement.steps;\n",
              "\n",
              "  const next = steps.next(outputElement.lastPromiseValue);\n",
              "  return Promise.resolve(next.value.promise).then((value) => {\n",
              "    // Cache the last promise value to make it available to the next\n",
              "    // step of the generator.\n",
              "    outputElement.lastPromiseValue = value;\n",
              "    return next.value.response;\n",
              "  });\n",
              "}\n",
              "\n",
              "/**\n",
              " * Generator function which is called between each async step of the upload\n",
              " * process.\n",
              " * @param {string} inputId Element ID of the input file picker element.\n",
              " * @param {string} outputId Element ID of the output display.\n",
              " * @return {!Iterable<!Object>} Iterable of next steps.\n",
              " */\n",
              "function* uploadFilesStep(inputId, outputId) {\n",
              "  const inputElement = document.getElementById(inputId);\n",
              "  inputElement.disabled = false;\n",
              "\n",
              "  const outputElement = document.getElementById(outputId);\n",
              "  outputElement.innerHTML = '';\n",
              "\n",
              "  const pickedPromise = new Promise((resolve) => {\n",
              "    inputElement.addEventListener('change', (e) => {\n",
              "      resolve(e.target.files);\n",
              "    });\n",
              "  });\n",
              "\n",
              "  const cancel = document.createElement('button');\n",
              "  inputElement.parentElement.appendChild(cancel);\n",
              "  cancel.textContent = 'Cancel upload';\n",
              "  const cancelPromise = new Promise((resolve) => {\n",
              "    cancel.onclick = () => {\n",
              "      resolve(null);\n",
              "    };\n",
              "  });\n",
              "\n",
              "  // Wait for the user to pick the files.\n",
              "  const files = yield {\n",
              "    promise: Promise.race([pickedPromise, cancelPromise]),\n",
              "    response: {\n",
              "      action: 'starting',\n",
              "    }\n",
              "  };\n",
              "\n",
              "  cancel.remove();\n",
              "\n",
              "  // Disable the input element since further picks are not allowed.\n",
              "  inputElement.disabled = true;\n",
              "\n",
              "  if (!files) {\n",
              "    return {\n",
              "      response: {\n",
              "        action: 'complete',\n",
              "      }\n",
              "    };\n",
              "  }\n",
              "\n",
              "  for (const file of files) {\n",
              "    const li = document.createElement('li');\n",
              "    li.append(span(file.name, {fontWeight: 'bold'}));\n",
              "    li.append(span(\n",
              "        `(${file.type || 'n/a'}) - ${file.size} bytes, ` +\n",
              "        `last modified: ${\n",
              "            file.lastModifiedDate ? file.lastModifiedDate.toLocaleDateString() :\n",
              "                                    'n/a'} - `));\n",
              "    const percent = span('0% done');\n",
              "    li.appendChild(percent);\n",
              "\n",
              "    outputElement.appendChild(li);\n",
              "\n",
              "    const fileDataPromise = new Promise((resolve) => {\n",
              "      const reader = new FileReader();\n",
              "      reader.onload = (e) => {\n",
              "        resolve(e.target.result);\n",
              "      };\n",
              "      reader.readAsArrayBuffer(file);\n",
              "    });\n",
              "    // Wait for the data to be ready.\n",
              "    let fileData = yield {\n",
              "      promise: fileDataPromise,\n",
              "      response: {\n",
              "        action: 'continue',\n",
              "      }\n",
              "    };\n",
              "\n",
              "    // Use a chunked sending to avoid message size limits. See b/62115660.\n",
              "    let position = 0;\n",
              "    do {\n",
              "      const length = Math.min(fileData.byteLength - position, MAX_PAYLOAD_SIZE);\n",
              "      const chunk = new Uint8Array(fileData, position, length);\n",
              "      position += length;\n",
              "\n",
              "      const base64 = btoa(String.fromCharCode.apply(null, chunk));\n",
              "      yield {\n",
              "        response: {\n",
              "          action: 'append',\n",
              "          file: file.name,\n",
              "          data: base64,\n",
              "        },\n",
              "      };\n",
              "\n",
              "      let percentDone = fileData.byteLength === 0 ?\n",
              "          100 :\n",
              "          Math.round((position / fileData.byteLength) * 100);\n",
              "      percent.textContent = `${percentDone}% done`;\n",
              "\n",
              "    } while (position < fileData.byteLength);\n",
              "  }\n",
              "\n",
              "  // All done.\n",
              "  yield {\n",
              "    response: {\n",
              "      action: 'complete',\n",
              "    }\n",
              "  };\n",
              "}\n",
              "\n",
              "scope.google = scope.google || {};\n",
              "scope.google.colab = scope.google.colab || {};\n",
              "scope.google.colab._files = {\n",
              "  _uploadFiles,\n",
              "  _uploadFilesContinue,\n",
              "};\n",
              "})(self);\n",
              "</script> "
            ]
          },
          "metadata": {}
        },
        {
          "output_type": "stream",
          "name": "stdout",
          "text": [
            "Saving elliot-small.zip to elliot-small (8).zip\n",
            "elliot-small.zip\n"
          ]
        }
      ]
    },
    {
      "cell_type": "code",
      "execution_count": 43,
      "metadata": {
        "colab": {
          "base_uri": "https://localhost:8080/"
        },
        "id": "VLyYQVM3hH8z",
        "outputId": "e166a29f-ef3d-4eb4-e2dd-fdaf776c626e"
      },
      "outputs": [
        {
          "output_type": "stream",
          "name": "stdout",
          "text": [
            "Model elliot0133 created.\n",
            "id='7fd3fbb0-b32f-4f6a-8b1c-3c7081585811' name='elliot0133' mode=<FineTuneMode.FACE: 'face'> object_name='' project_id='fe374d17-8e12-4fd8-b553-47f3a2240689' engine_id='' user_id='user-nxd0HKULOBWVrBY436QH7FEV' duration=0.0 status=<FineTuneStatus.SUBMITTED: 'submitted'>\n"
          ]
        }
      ],
      "source": [
        "import uuid\n",
        "#@title Perform fine-tuning\n",
        "model_name = \"elliot\" #@param {type:\"string\"}\n",
        "training_mode = \"face\" #@param [\"none\", \"face\", \"style\", \"object\"] {type:\"string\"}\n",
        "\n",
        "model_name += str(uuid.uuid4())[:4]\n",
        "\n",
        "# Gather training images\n",
        "images = []\n",
        "for filename in os.listdir(training_dir):\n",
        "    if os.path.splitext(filename)[1].lower() in ['.png', '.jpg', '.jpeg']:\n",
        "        images.append(os.path.join(training_dir, filename))\n",
        "\n",
        "# Create the fine-tune model\n",
        "params = FineTuneParameters(\n",
        "    name=model_name,\n",
        "    mode=FineTuneMode(training_mode),\n",
        "    engine_id=\"stable-diffusion-xl-beta-v2-2-2\",\n",
        ")\n",
        "model = create_model(ft_context, params, images)\n",
        "print(f\"Model {model_name} created.\")\n",
        "print(model)"
      ]
    },
    {
      "cell_type": "code",
      "execution_count": null,
      "metadata": {
        "colab": {
          "base_uri": "https://localhost:8080/"
        },
        "id": "yEKyO3-bhH8z",
        "outputId": "8c2d07f0-8a6c-4f6a-d405-e81d91449d07"
      },
      "outputs": [
        {
          "output_type": "stream",
          "name": "stdout",
          "text": [
            "Model elliot0133 (7fd3fbb0-b32f-4f6a-8b1c-3c7081585811) status: submitted for 0.20 sec\n",
            "Model elliot0133 (7fd3fbb0-b32f-4f6a-8b1c-3c7081585811) status: submitted for 5.40 sec\n",
            "Model elliot0133 (7fd3fbb0-b32f-4f6a-8b1c-3c7081585811) status: submitted for 10.60 sec\n",
            "Model elliot0133 (7fd3fbb0-b32f-4f6a-8b1c-3c7081585811) status: submitted for 15.81 sec\n",
            "Model elliot0133 (7fd3fbb0-b32f-4f6a-8b1c-3c7081585811) status: submitted for 21.01 sec\n",
            "Model elliot0133 (7fd3fbb0-b32f-4f6a-8b1c-3c7081585811) status: submitted for 26.21 sec\n",
            "Model elliot0133 (7fd3fbb0-b32f-4f6a-8b1c-3c7081585811) status: submitted for 31.41 sec\n",
            "Model elliot0133 (7fd3fbb0-b32f-4f6a-8b1c-3c7081585811) status: running for 36.61 sec\n",
            "Model elliot0133 (7fd3fbb0-b32f-4f6a-8b1c-3c7081585811) status: running for 41.82 sec\n",
            "Model elliot0133 (7fd3fbb0-b32f-4f6a-8b1c-3c7081585811) status: running for 47.02 sec\n",
            "Model elliot0133 (7fd3fbb0-b32f-4f6a-8b1c-3c7081585811) status: running for 52.22 sec\n",
            "Model elliot0133 (7fd3fbb0-b32f-4f6a-8b1c-3c7081585811) status: running for 57.43 sec\n"
          ]
        }
      ],
      "source": [
        "import time\n",
        "# Check on training status\n",
        "start_time = time.time()\n",
        "while True:\n",
        "    model = get_model(ft_context, model.id)\n",
        "    elapsed = time.time() - start_time\n",
        "    print(f\"Model {model.name} ({model.id}) status: {model.status} for {elapsed:.2f} sec\")\n",
        "    time.sleep(5)"
      ]
    },
    {
      "cell_type": "code",
      "execution_count": null,
      "metadata": {
        "id": "Qr4jBHX7hH8z"
      },
      "outputs": [],
      "source": [
        "# If fine-tuning fails for some reason, you can resubmit the model\n",
        "if model.status == FineTuneStatus.FAILED:\n",
        "    print(f\"Training failed, resubmitting\")\n",
        "    model = resubmit_model(ft_context, model.id)"
      ]
    },
    {
      "cell_type": "code",
      "execution_count": null,
      "metadata": {
        "id": "-Ugkjgy2hH8z"
      },
      "outputs": [],
      "source": [
        "# Generate an image using the fine-tuned model\n",
        "results = api_context.generate(\n",
        "    [\"Illustration of <s1><s2><s3> as a wizard\"], [1], finetune_model=model.id\n",
        ")"
      ]
    },
    {
      "cell_type": "code",
      "execution_count": null,
      "metadata": {
        "id": "3BZLVniihH8z"
      },
      "outputs": [],
      "source": [
        "# Models can be updated to change settings before a resubmit or after training to rename\n",
        "update_model(ft_context, model.id, name=\"cat-ft-01-renamed\")"
      ]
    },
    {
      "cell_type": "code",
      "execution_count": null,
      "metadata": {
        "id": "eUFTMZOvhH80"
      },
      "outputs": [],
      "source": [
        "# Delete the model when it's no longer needed\n",
        "delete_model(ft_context, model.id)"
      ]
    }
  ],
  "metadata": {
    "kernelspec": {
      "display_name": "venv",
      "language": "python",
      "name": "python3"
    },
    "language_info": {
      "codemirror_mode": {
        "name": "ipython",
        "version": 3
      },
      "file_extension": ".py",
      "mimetype": "text/x-python",
      "name": "python",
      "nbconvert_exporter": "python",
      "pygments_lexer": "ipython3",
      "version": "3.9.5"
    },
    "orig_nbformat": 4,
    "colab": {
      "provenance": []
    }
  },
  "nbformat": 4,
  "nbformat_minor": 0
}