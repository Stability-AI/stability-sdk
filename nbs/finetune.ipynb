{
  "cells": [
    {
      "cell_type": "code",
      "execution_count": 1,
      "metadata": {
        "cellView": "form",
        "id": "T9ma2X7bhH8y"
      },
      "outputs": [],
      "source": [
        "#@title Install Stability SDK with fine-tuning support\n",
        "import getpass\n",
        "import io\n",
        "import logging\n",
        "import os\n",
        "import shutil\n",
        "import sys\n",
        "import time\n",
        "from IPython.display import clear_output\n",
        "from pathlib import Path\n",
        "from zipfile import ZipFile\n",
        "\n",
        "if os.path.exists(\"../src/stability_sdk\"):\n",
        "    sys.path.append(\"../src\") # use local SDK src\n",
        "else:\n",
        "    path = Path('stability-sdk')\n",
        "    if path.exists():\n",
        "        shutil.rmtree(path)\n",
        "        !pip uninstall -y stability-sdk\n",
        "    !git clone -b \"PLATFORM-339\" --recurse-submodules https://github.com/Stability-AI/stability-sdk\n",
        "    !pip install ./stability-sdk"
      ]
    },
    {
      "cell_type": "code",
      "execution_count": null,
      "metadata": {
        "cellView": "form",
        "id": "5LM5SUUOhH8z"
      },
      "outputs": [],
      "source": [
        "#@title Connect to the Stability API\n",
        "from stability_sdk.api import Context, generation\n",
        "from stability_sdk.finetune import (\n",
        "    create_model, delete_model, get_model, list_models, resubmit_model, update_model,\n",
        "    FineTuneMode, FineTuneParameters, FineTuneStatus\n",
        ")\n",
        "\n",
        "# @markdown To get your API key visit https://dreamstudio.ai/account\n",
        "STABILITY_HOST = \"grpc-staging.stability.ai:443\" #@param {type:\"string\"}\n",
        "STABILITY_KEY = getpass.getpass('Enter your API Key')\n",
        "\n",
        "engine_id = \"stable-diffusion-xl-1024-v0-9\" #@param [\"stable-diffusion-xl-1024-v0-9\", \"stable-diffusion-xl-1024-v1-0\"] {type:\"string\"}\n",
        "\n",
        "# Create API context to query user info and generate images\n",
        "context = Context(STABILITY_HOST, STABILITY_KEY, generate_engine_id=engine_id)\n",
        "(balance, pfp) = context.get_user_info()\n",
        "print(f\"Logged in org:{context._user_organization_id} with balance:{balance}\")\n",
        "\n",
        "# Redirect logs to print statements so we can see them in the notebook\n",
        "class PrintHandler(logging.Handler):\n",
        "    def emit(self, record):\n",
        "        print(self.format(record))\n",
        "logging.getLogger().addHandler(PrintHandler())\n",
        "logging.getLogger().setLevel(logging.INFO)"
      ]
    },
    {
      "cell_type": "code",
      "execution_count": null,
      "metadata": {
        "id": "iQL5dFsfhH8z"
      },
      "outputs": [],
      "source": [
        "# List fine-tuned models for this user / organization\n",
        "models = list_models(context, org_id=context._user_organization_id)\n",
        "print(f\"Found {len(models)} models\")\n",
        "for model in models:\n",
        "    print(f\"  Model {model.id} {model.name} {model.status}\")"
      ]
    },
    {
      "cell_type": "code",
      "execution_count": null,
      "metadata": {
        "id": "9C1YOFxIhTJp"
      },
      "outputs": [],
      "source": [
        "#@title Specify folder of images or upload zip file\n",
        "training_dir = \"./train\" #@param {type:\"string\"}\n",
        "\n",
        "if not os.path.exists(training_dir):\n",
        "    try:\n",
        "        from google.colab import files\n",
        "\n",
        "        upload_res = files.upload()\n",
        "        training_dir = list(upload_res.keys())[0]\n",
        "        print(f\"Received {training_dir}\")\n",
        "        if not training_dir.endswith(\".zip\"):\n",
        "            raise ValueError(\"Uploaded file must be a zip file\")\n",
        "\n",
        "        zf = ZipFile(io.BytesIO(upload_res[training_dir]), \"r\")\n",
        "        training_dir = Path(training_dir).stem\n",
        "        print(f\"Extracting to {training_dir}\")\n",
        "        zf.extractall(training_dir)\n",
        "\n",
        "    except ImportError:\n",
        "        pass\n",
        "\n",
        "print(f\"Using training images from: {training_dir}\")"
      ]
    },
    {
      "cell_type": "code",
      "execution_count": null,
      "metadata": {
        "id": "VLyYQVM3hH8z"
      },
      "outputs": [],
      "source": [
        "#@title Perform fine-tuning\n",
        "model_name = \"cat-ft-01\" #@param {type:\"string\"}\n",
        "training_mode = \"object\" #@param [\"face\", \"style\", \"object\"] {type:\"string\"}\n",
        "object_prompt = \"cat\" #@param {type:\"string\"}\n",
        "\n",
        "# Gather training images\n",
        "images = []\n",
        "for filename in os.listdir(training_dir):\n",
        "    if os.path.splitext(filename)[1].lower() in ['.png', '.jpg', '.jpeg']:\n",
        "        images.append(os.path.join(training_dir, filename))\n",
        "\n",
        "# Create the fine-tune model\n",
        "params = FineTuneParameters(\n",
        "    name=model_name,\n",
        "    mode=FineTuneMode(training_mode),\n",
        "    object_prompt=object_prompt,\n",
        "    engine_id=engine_id,\n",
        ")\n",
        "model = create_model(context, params, images)\n",
        "print(f\"Model {model_name} created.\")\n",
        "print(model)"
      ]
    },
    {
      "cell_type": "code",
      "execution_count": 6,
      "metadata": {
        "id": "yEKyO3-bhH8z"
      },
      "outputs": [],
      "source": [
        "# Check on training status\n",
        "start_time = time.time()\n",
        "while model.status != FineTuneStatus.COMPLETED and model.status != FineTuneStatus.FAILED:\n",
        "    model = get_model(context, model.id)\n",
        "    elapsed = time.time() - start_time\n",
        "    clear_output(wait=True)\n",
        "    print(f\"Model {model.name} ({model.id}) status: {model.status} for {elapsed:.0f} seconds\")\n",
        "    time.sleep(5)\n",
        "\n",
        "clear_output(wait=True)\n",
        "status_message = \"completed\" if model.status == FineTuneStatus.COMPLETED else \"failed\"\n",
        "print(f\"Model {model.name} ({model.id}) {status_message} after {elapsed:.0f} seconds\")"
      ]
    },
    {
      "cell_type": "code",
      "execution_count": 13,
      "metadata": {
        "id": "Qr4jBHX7hH8z"
      },
      "outputs": [],
      "source": [
        "# If fine-tuning fails for some reason, you can resubmit the model\n",
        "if model.status == FineTuneStatus.FAILED:\n",
        "    print(\"Training failed, resubmitting\")\n",
        "    model = resubmit_model(context, model.id)"
      ]
    },
    {
      "cell_type": "code",
      "execution_count": null,
      "metadata": {
        "id": "-Ugkjgy2hH8z"
      },
      "outputs": [],
      "source": [
        "# Generate an image using the fine-tuned model\n",
        "results = context.generate(\n",
        "    prompts=[f\"Illustration of <{model.id}:0.7> as a wizard\"],\n",
        "    weights=[1],\n",
        "    width=1024,\n",
        "    height=1024,\n",
        "    seed=42,\n",
        "    sampler=generation.SAMPLER_DDIM,\n",
        "    preset=\"photographic\",\n",
        ")\n",
        "image = results[generation.ARTIFACT_IMAGE][0]\n",
        "display(image)"
      ]
    },
    {
      "cell_type": "code",
      "execution_count": null,
      "metadata": {
        "id": "3BZLVniihH8z"
      },
      "outputs": [],
      "source": [
        "# Models can be updated to change settings before a resubmit or after training to rename\n",
        "update_model(context, model.id, name=\"cat-ft-01-renamed\")"
      ]
    },
    {
      "cell_type": "code",
      "execution_count": null,
      "metadata": {
        "id": "eUFTMZOvhH80"
      },
      "outputs": [],
      "source": [
        "# Delete the model when it's no longer needed\n",
        "delete_model(context, model.id)"
      ]
    },
    {
      "cell_type": "code",
      "execution_count": null,
      "metadata": {},
      "outputs": [],
      "source": [
        "#@title Example using StabilityInference class\n",
        "import warnings\n",
        "from stability_sdk.client import StabilityInference\n",
        "from PIL import Image\n",
        "\n",
        "si = StabilityInference(STABILITY_HOST, STABILITY_KEY, engine=engine_id)\n",
        "results = si.generate(\n",
        "    f\"Illustration of <{model.id}:0.7> as a wizard\",\n",
        "    width=1024, \n",
        "    height=1024, \n",
        "    seed=42,\n",
        "    sampler=generation.SAMPLER_DDIM,\n",
        "    style_preset=\"photographic\"\n",
        ")\n",
        "for resp in results:\n",
        "    for artifact in resp.artifacts:\n",
        "        if artifact.finish_reason == generation.FILTER:\n",
        "            warnings.warn(\n",
        "                \"Your request activated the API's safety filters and could not be processed.\"\n",
        "                \"Please modify the prompt and try again.\")\n",
        "        if artifact.type == generation.ARTIFACT_IMAGE:\n",
        "            display(Image.open(io.BytesIO(artifact.binary)))"
      ]
    }
  ],
  "metadata": {
    "colab": {
      "provenance": []
    },
    "kernelspec": {
      "display_name": "venv",
      "language": "python",
      "name": "python3"
    },
    "language_info": {
      "codemirror_mode": {
        "name": "ipython",
        "version": 3
      },
      "file_extension": ".py",
      "mimetype": "text/x-python",
      "name": "python",
      "nbconvert_exporter": "python",
      "pygments_lexer": "ipython3",
      "version": "3.11.4"
    },
    "orig_nbformat": 4
  },
  "nbformat": 4,
  "nbformat_minor": 0
}
