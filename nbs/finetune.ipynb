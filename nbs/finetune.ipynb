{
  "cells": [
    {
      "cell_type": "code",
      "execution_count": null,
      "metadata": {
        "id": "T9ma2X7bhH8y",
        "cellView": "form"
      },
      "outputs": [],
      "source": [
        "#@title Install Stability SDK with fine-tuning support\n",
        "import getpass\n",
        "import io\n",
        "import logging\n",
        "import os\n",
        "import shutil\n",
        "import sys\n",
        "import time\n",
        "from pathlib import Path\n",
        "from zipfile import ZipFile\n",
        "\n",
        "if os.path.exists(\"../src/stability_sdk\"):\n",
        "    sys.path.append(\"../src\") # use local SDK src\n",
        "else:\n",
        "    path = Path('stability-sdk')\n",
        "    if path.exists():\n",
        "        shutil.rmtree(path)\n",
        "        !pip uninstall -y stability-sdk\n",
        "    !git clone -b \"PLATFORM-339\" --recurse-submodules https://github.com/Stability-AI/stability-sdk\n",
        "    !pip install ./stability-sdk"
      ]
    },
    {
      "cell_type": "code",
      "execution_count": null,
      "metadata": {
        "id": "5LM5SUUOhH8z",
        "cellView": "form"
      },
      "outputs": [],
      "source": [
        "#@title Connect to the Stability API\n",
        "from stability_sdk.api import Context as ApiContext\n",
        "from stability_sdk.finetune import *\n",
        "\n",
        "# @markdown To get your API key visit https://dreamstudio.ai/account\n",
        "STABILITY_HOST = \"grpc-staging.stability.ai:443\" #@param {type:\"string\"}\n",
        "STABILITY_KEY = getpass.getpass('Enter your API Key')\n",
        "\n",
        "engine_id = \"stable-diffusion-xl-beta-v2-2-2\" #@param [\"stable-diffusion-xl-beta-v2-2-2\"] {type:\"string\"}\n",
        "\n",
        "# Create API context to query user info and generate images\n",
        "api_context = ApiContext(STABILITY_HOST, STABILITY_KEY, generate_engine_id=engine_id+\"-ft\")\n",
        "(balance, pfp) = api_context.get_user_info()\n",
        "print(f\"Logged in org:{api_context._user_organization_id} with balance:{balance}\")\n",
        "\n",
        "# Create a fine-tuning context for model training\n",
        "ft_context = Context(STABILITY_HOST, STABILITY_KEY)\n",
        "\n",
        "# Redirect logs to print statements so we can see them in the notebook\n",
        "class PrintHandler(logging.Handler):\n",
        "    def emit(self, record):\n",
        "        print(self.format(record))\n",
        "logging.getLogger().addHandler(PrintHandler())\n",
        "logging.getLogger().setLevel(logging.INFO)\n"
      ]
    },
    {
      "cell_type": "code",
      "execution_count": null,
      "metadata": {
        "id": "iQL5dFsfhH8z"
      },
      "outputs": [],
      "source": [
        "# List fine-tuned models for this user / organization\n",
        "models = list_models(ft_context, org_id=api_context._user_organization_id)\n",
        "print(f\"Found {len(models)} models\")\n",
        "for model in models:\n",
        "    print(f\"  Model {model.id} {model.name} {model.status}\")"
      ]
    },
    {
      "cell_type": "code",
      "execution_count": null,
      "metadata": {
        "id": "9C1YOFxIhTJp"
      },
      "outputs": [],
      "source": [
        "#@title Specify folder of images or upload zip file\n",
        "training_dir = \"./train\" #@param {type:\"string\"}\n",
        "\n",
        "if not os.path.exists(training_dir):\n",
        "    try:\n",
        "        from google.colab import files\n",
        "\n",
        "        upload_res = files.upload()\n",
        "        training_dir = list(upload_res.keys())[0]\n",
        "        print(f\"Received {training_dir}\")\n",
        "        if not training_dir.endswith(\".zip\"):\n",
        "            raise ValueError(\"Uploaded file must be a zip file\")\n",
        "\n",
        "        zf = ZipFile(io.BytesIO(upload_res[training_dir]), \"r\")\n",
        "        training_dir = Path(training_dir).stem\n",
        "        print(f\"Extracting to {training_dir}\")\n",
        "        zf.extractall(training_dir)\n",
        "\n",
        "    except ImportError:\n",
        "        pass\n",
        "\n",
        "print(f\"Using training images from: {training_dir}\")"
      ]
    },
    {
      "cell_type": "code",
      "execution_count": null,
      "metadata": {
        "id": "VLyYQVM3hH8z"
      },
      "outputs": [],
      "source": [
        "#@title Perform fine-tuning\n",
        "model_name = \"cat-ft-01\" #@param {type:\"string\"}\n",
        "training_mode = \"object\" #@param [\"face\", \"style\", \"object\"] {type:\"string\"}\n",
        "object_prompt = \"cat\" #@param {type:\"string\"}\n",
        "\n",
        "# Gather training images\n",
        "images = []\n",
        "for filename in os.listdir(training_dir):\n",
        "    if os.path.splitext(filename)[1].lower() in ['.png', '.jpg', '.jpeg']:\n",
        "        images.append(os.path.join(training_dir, filename))\n",
        "\n",
        "# Create the fine-tune model\n",
        "params = FineTuneParameters(\n",
        "    name=model_name,\n",
        "    mode=FineTuneMode(training_mode),\n",
        "    object_prompt=object_prompt,\n",
        "    engine_id=engine_id,\n",
        ")\n",
        "model = create_model(ft_context, params, images)\n",
        "print(f\"Model {model_name} created.\")\n",
        "print(model)"
      ]
    },
    {
      "cell_type": "code",
      "execution_count": null,
      "metadata": {
        "id": "yEKyO3-bhH8z"
      },
      "outputs": [],
      "source": [
        "# Check on training status\n",
        "start_time = time.time()\n",
        "while model.status != FineTuneStatus.COMPLETED and model.status != FineTuneStatus.FAILED:\n",
        "    model = get_model(ft_context, model.id)\n",
        "    elapsed = time.time() - start_time\n",
        "    print(f\"Model {model.name} ({model.id}) status: {model.status} for {elapsed:.2f} sec\")\n",
        "    time.sleep(5)"
      ]
    },
    {
      "cell_type": "code",
      "execution_count": null,
      "metadata": {
        "id": "Qr4jBHX7hH8z"
      },
      "outputs": [],
      "source": [
        "# If fine-tuning fails for some reason, you can resubmit the model\n",
        "if model.status == FineTuneStatus.FAILED:\n",
        "    print(f\"Training failed, resubmitting\")\n",
        "    model = resubmit_model(ft_context, model.id)"
      ]
    },
    {
      "cell_type": "code",
      "execution_count": null,
      "metadata": {
        "id": "-Ugkjgy2hH8z"
      },
      "outputs": [],
      "source": [
        "# Generate an image using the fine-tuned model\n",
        "results = api_context.generate(\n",
        "    prompts=[f\"Illustration of <{model.id}> as a wizard\"],\n",
        "    weights=[1],\n",
        "    finetune_models=[model.id],\n",
        "    finetune_weights=[0.7]\n",
        ")\n",
        "image = results[generation.ARTIFACT_IMAGE][0]\n",
        "image"
      ]
    },
    {
      "cell_type": "code",
      "execution_count": null,
      "metadata": {
        "id": "3BZLVniihH8z"
      },
      "outputs": [],
      "source": [
        "# Models can be updated to change settings before a resubmit or after training to rename\n",
        "update_model(ft_context, model.id, name=\"cat-ft-01-renamed\")"
      ]
    },
    {
      "cell_type": "code",
      "execution_count": null,
      "metadata": {
        "id": "eUFTMZOvhH80"
      },
      "outputs": [],
      "source": [
        "# Delete the model when it's no longer needed\n",
        "delete_model(ft_context, model.id)"
      ]
    }
  ],
  "metadata": {
    "colab": {
      "provenance": []
    },
    "kernelspec": {
      "display_name": "venv",
      "language": "python",
      "name": "python3"
    },
    "language_info": {
      "codemirror_mode": {
        "name": "ipython",
        "version": 3
      },
      "file_extension": ".py",
      "mimetype": "text/x-python",
      "name": "python",
      "nbconvert_exporter": "python",
      "pygments_lexer": "ipython3",
      "version": "3.9.5"
    },
    "orig_nbformat": 4
  },
  "nbformat": 4,
  "nbformat_minor": 0
}