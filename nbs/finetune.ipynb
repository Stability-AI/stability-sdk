{
 "cells": [
  {
   "cell_type": "code",
   "execution_count": 1,
   "metadata": {},
   "outputs": [],
   "source": [
    "#@title Install Stability SDK with fine-tuning support\n",
    "import os\n",
    "import shutil\n",
    "import sys\n",
    "from pathlib import Path\n",
    "\n",
    "if os.path.exists(\"../src/stability_sdk\"):\n",
    "    sys.path.append(\"../src\") # use local SDK src\n",
    "else:\n",
    "    path = Path('stability-sdk')\n",
    "    if path.exists():\n",
    "        shutil.rmtree(path)\n",
    "        !pip uninstall -y stability-sdk\n",
    "    !git clone -b \"PLATFORM-339\" --recurse-submodules https://github.com/Stability-AI/stability-sdk\n",
    "    !pip install ./stability-sdk"
   ]
  },
  {
   "cell_type": "code",
   "execution_count": 2,
   "metadata": {},
   "outputs": [],
   "source": [
    "#@title Connect to the Stability API\n",
    "import getpass\n",
    "from stability_sdk.api import Context as ApiContext\n",
    "from stability_sdk.finetune import *\n",
    "\n",
    "# @markdown To get your API key visit https://dreamstudio.ai/account\n",
    "STABILITY_HOST = \"grpc-staging.stability.ai:443\" #@param {type:\"string\"}\n",
    "STABILITY_KEY = getpass.getpass('Enter your API Key')\n",
    "\n",
    "api_context = ApiContext(STABILITY_HOST, STABILITY_KEY)\n",
    "(balance, pfp) = api_context.get_user_info()\n",
    "print(f\"Logged in org:{api_context._user_organization_id} with balance:{balance}\")\n",
    "\n",
    "# Create a fine-tuning context\n",
    "ft_context = Context(STABILITY_HOST, STABILITY_KEY)"
   ]
  },
  {
   "cell_type": "code",
   "execution_count": null,
   "metadata": {},
   "outputs": [],
   "source": [
    "# List fine tuned models for this user / organization\n",
    "models = list_models(ft_context, org_id=api_context._user_organization_id)\n",
    "print(f\"Found {len(models)} models\")\n",
    "for model in models:\n",
    "    print(f\"  Model {model.id} {model.name} {model.status}\")"
   ]
  },
  {
   "cell_type": "code",
   "execution_count": null,
   "metadata": {},
   "outputs": [],
   "source": [
    "#@title Perform fine-tuning\n",
    "training_image_path = \"./train\" #@param {type:\"string\"}\n",
    "model_name = \"cat-ft-01\" #@param {type:\"string\"}\n",
    "training_mode = \"object\" #@param [\"none\", \"face\", \"style\", \"object\"] {type:\"string\"}\n",
    "object_name = \"cat\" #@param {type:\"string\"}\n",
    "engine_id = \"stable-diffusion-512-v2-1\" #@param {type:\"string\"}\n",
    "\n",
    "# Gather training images\n",
    "images = []\n",
    "for filename in os.listdir(training_image_path):\n",
    "    if os.path.splitext(filename)[1].lower() in ['.png', '.jpg', '.jpeg']:\n",
    "        images.append(os.path.join(training_image_path, filename))\n",
    "\n",
    "# Create the fine-tune model\n",
    "params = FineTuneParameters(\n",
    "    name=model_name,\n",
    "    mode=FineTuneMode(training_mode),\n",
    "    object_name=object_name,\n",
    "    engine_id=engine_id,\n",
    ")\n",
    "model = create_model(ft_context, params, images)\n",
    "print(model)"
   ]
  },
  {
   "cell_type": "code",
   "execution_count": null,
   "metadata": {},
   "outputs": [],
   "source": [
    "# Check on training status\n",
    "model = get_model(ft_context, model.id)\n",
    "print(f\"Model {model.id} {model.name} {model.status}\")"
   ]
  },
  {
   "cell_type": "code",
   "execution_count": null,
   "metadata": {},
   "outputs": [],
   "source": [
    "# If fine-tuning fails for some reason, you can resubmit the model\n",
    "if model.status == FineTuneStatus.FAILED:\n",
    "    print(f\"Training failed, resubmitting\")\n",
    "    model = resubmit_model(ft_context, model.id)"
   ]
  },
  {
   "cell_type": "code",
   "execution_count": null,
   "metadata": {},
   "outputs": [],
   "source": [
    "# Generate an image using the fine-tuned model\n",
    "results = api_context.generate([\"a cute fluffy cat\"], [1.0], finetune_model=\"cat-ft-01\")\n",
    "image = results[generation.ARTIFACT_IMAGE][0]\n",
    "image"
   ]
  },
  {
   "cell_type": "code",
   "execution_count": null,
   "metadata": {},
   "outputs": [],
   "source": [
    "# Models can be updated to change settings before a resubmit or after training to rename\n",
    "update_model(ft_context, model.id, name=\"cat-ft-01-renamed\")"
   ]
  },
  {
   "cell_type": "code",
   "execution_count": null,
   "metadata": {},
   "outputs": [],
   "source": [
    "# Delete the model when it's no longer needed\n",
    "delete_model(ft_context, model.id)"
   ]
  }
 ],
 "metadata": {
  "kernelspec": {
   "display_name": "venv",
   "language": "python",
   "name": "python3"
  },
  "language_info": {
   "codemirror_mode": {
    "name": "ipython",
    "version": 3
   },
   "file_extension": ".py",
   "mimetype": "text/x-python",
   "name": "python",
   "nbconvert_exporter": "python",
   "pygments_lexer": "ipython3",
   "version": "3.9.5"
  },
  "orig_nbformat": 4
 },
 "nbformat": 4,
 "nbformat_minor": 2
}
